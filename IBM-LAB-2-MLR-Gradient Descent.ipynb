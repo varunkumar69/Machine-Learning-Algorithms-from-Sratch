{
 "cells": [
  {
   "cell_type": "code",
   "execution_count": 12,
   "metadata": {},
   "outputs": [],
   "source": [
    "import numpy as np\n",
    "def predict(x1,x2,x3,parameter):\n",
    "    return (x1*parameter[0]+x2*parameter[1]+x3*parameter[2]+parameter[3])"
   ]
  },
  {
   "cell_type": "code",
   "execution_count": 77,
   "metadata": {},
   "outputs": [],
   "source": [
    "def update_parameters(x1,x2,x3,y,parameter,epoch,alpha):\n",
    "    for j in range(epoch):\n",
    "        sum_error=0\n",
    "        for i in range(len(x1)):\n",
    "            error=0\n",
    "            y_hat=predict(x1[i],x2[i],x3[i],parameter)\n",
    "            error=y_hat-y[i]\n",
    "            sum_error=sum_error+error**2\n",
    "            parameter[0]=parameter[0]-(alpha*x1[i]*error)\n",
    "            parameter[1]=parameter[1]-(alpha*x2[i]*error)\n",
    "            parameter[2]=parameter[2]-(alpha*x3[i]*error)\n",
    "            parameter[3]=parameter[3]-(alpha*error)\n",
    "        print(\"error \",j+1,\" \",sum_error)\n",
    "        \n",
    "    return parameter\n",
    "            "
   ]
  },
  {
   "cell_type": "code",
   "execution_count": 84,
   "metadata": {},
   "outputs": [
    {
     "name": "stdout",
     "output_type": "stream",
     "text": [
      "error  1   302.2684363325697\n",
      "error  2   36.739333228144325\n",
      "error  3   13.679045795042953\n",
      "error  4   11.873322404356983\n",
      "error  5   11.790915807054608\n",
      "error  6   11.804907448414246\n",
      "error  7   11.809777765557575\n",
      "error  8   11.808465239616917\n",
      "error  9   11.804984731375276\n",
      "error  10   11.800825984501607\n",
      "error  11   11.796462343876117\n",
      "error  12   11.792038392893467\n",
      "error  13   11.787597797033168\n",
      "error  14   11.783153698948123\n",
      "error  15   11.778710049891293\n",
      "error  16   11.774268036909346\n",
      "error  17   11.769828016072875\n",
      "error  18   11.765390093673956\n",
      "error  19   11.76095430092803\n",
      "error  20   11.756520646485122\n",
      "error  21   11.752089132213039\n",
      "error  22   11.747659757941479\n",
      "error  23   11.743232522887924\n",
      "error  24   11.738807426086089\n",
      "error  25   11.734384466514951\n",
      "error  26   11.729963643137282\n",
      "error  27   11.725544954911426\n",
      "error  28   11.721128400794688\n",
      "error  29   11.716713979744451\n",
      "error  30   11.712301690718482\n",
      "error  31   11.70789153267501\n",
      "error  32   11.703483504572768\n",
      "error  33   11.69907760537097\n",
      "error  34   11.694673834029377\n",
      "error  35   11.690272189508223\n",
      "error  36   11.6858726707683\n",
      "error  37   11.681475276770845\n",
      "error  38   11.677080006477663\n",
      "error  39   11.672686858851039\n",
      "error  40   11.668295832853758\n",
      "error  41   11.663906927449144\n",
      "error  42   11.659520141601\n",
      "error  43   11.655135474273656\n",
      "error  44   11.650752924431936\n",
      "error  45   11.646372491041173\n",
      "error  46   11.641994173067227\n",
      "error  47   11.637617969476423\n",
      "error  48   11.63324387923566\n",
      "error  49   11.628871901312255\n",
      "error  50   11.624502034674137\n",
      "error  51   11.62013427828962\n",
      "error  52   11.615768631127642\n",
      "error  53   11.611405092157547\n",
      "error  54   11.607043660349259\n",
      "error  55   11.602684334673155\n",
      "error  56   11.598327114100146\n",
      "error  57   11.593971997601654\n",
      "error  58   11.589618984149563\n",
      "error  59   11.585268072716293\n",
      "error  60   11.580919262274774\n",
      "error  61   11.576572551798435\n",
      "error  62   11.5722279402612\n",
      "error  63   11.567885426637464\n",
      "error  64   11.563545009902207\n",
      "error  65   11.55920668903082\n",
      "error  66   11.55487046299927\n",
      "error  67   11.55053633078398\n",
      "error  68   11.546204291361885\n",
      "error  69   11.541874343710443\n",
      "error  70   11.537546486807583\n",
      "error  71   11.533220719631744\n",
      "error  72   11.528897041161887\n",
      "error  73   11.524575450377444\n",
      "error  74   11.520255946258347\n",
      "error  75   11.515938527785078\n",
      "error  76   11.511623193938544\n",
      "error  77   11.507309943700225\n",
      "error  78   11.502998776052017\n",
      "error  79   11.498689689976404\n",
      "error  80   11.494382684456303\n",
      "error  81   11.490077758475175\n",
      "error  82   11.485774911016936\n",
      "error  83   11.481474141066036\n",
      "error  84   11.477175447607394\n",
      "error  85   11.472878829626444\n",
      "error  86   11.46858428610912\n",
      "error  87   11.464291816041861\n",
      "error  88   11.460001418411572\n",
      "error  89   11.455713092205665\n",
      "error  90   11.451426836412084\n",
      "error  91   11.447142650019199\n",
      "error  92   11.44286053201596\n",
      "error  93   11.438580481391732\n",
      "error  94   11.43430249713644\n",
      "error  95   11.430026578240456\n",
      "error  96   11.425752723694702\n",
      "error  97   11.421480932490525\n",
      "error  98   11.417211203619814\n",
      "error  99   11.412943536074938\n",
      "error  100   11.408677928848764\n",
      "[0.07895752146219959, -0.007376582376695475, 0.012836128068626237, 0.003842705157285648]\n"
     ]
    }
   ],
   "source": [
    "x1=np.array([89,66,78,111,44,77,80,66,109,75,85,110,45,79,90,76,81])\n",
    "x2=np.array([4,1,3,6,1,3,3,2,5,3,2,6,1,1,4,2,3])\n",
    "x3=np.array([3.84,3.19,3.78,3.89,3.57,3.57,3.03,3.51,3.54,3.25,3.31,3.2,3.7,3.21,3.87,3.56,3.21])\n",
    "y=np.array([7,5.4,6.6,7.4,4.8,6.4,7,5.6,7.3,6.4,6.9,7.3,4.8,6.8,7,6.5,7])\n",
    "alpha=0.00001\n",
    "epoch=100\n",
    "parameter=[0,0,0,0]\n",
    "\n",
    "updated_parameter=update_parameters(x1,x2,x3,y,parameter,epoch,alpha)\n",
    "\n",
    "print(updated_parameter)"
   ]
  },
  {
   "cell_type": "code",
   "execution_count": 93,
   "metadata": {},
   "outputs": [
    {
     "name": "stdout",
     "output_type": "stream",
     "text": [
      "1 actual :  7.0 predicted :  7.050846517569791  error  -0.050846517569791416\n",
      "2 actual :  5.4 predicted :  5.248609787824681  error  0.15139021217531923\n",
      "3 actual :  6.6 predicted :  6.188920196178175  error  0.4110798038218251\n",
      "4 actual :  7.4 predicted :  8.773800631388223  error  -1.3738006313882227\n",
      "5 actual :  4.8 predicted :  3.5164220443223675  error  1.2835779556776323\n",
      "6 actual :  6.4 predicted :  6.107267087821564  error  0.2927329121784368\n",
      "7 actual :  7.0 predicted :  6.337208143051104  error  0.6627918569488962\n",
      "8 actual :  5.6 predicted :  5.245340766429946  error  0.3546592335700538\n",
      "9 actual :  7.3 predicted :  8.618769526016502  error  -1.318769526016502\n",
      "10 actual :  6.4 predicted :  5.945244483915204  error  0.4547555160847967\n",
      "11 actual :  6.9 predicted :  6.742966448598013  error  0.15703355140198738\n",
      "12 actual :  7.3 predicted :  8.685986181558672  error  -1.385986181558672\n",
      "13 actual :  4.8 predicted :  3.5970482624334883  error  1.2029517375665115\n",
      "14 actual :  6.8 predicted :  6.2753142893946485  error  0.5246857106053513\n",
      "15 actual :  7.0 predicted :  7.13018912287405  error  -0.13018912287405016\n",
      "16 actual :  6.5 predicted :  6.035557787455373  error  0.46444221254462725\n",
      "17 actual :  7.0 predicted :  6.4184761675656565  error  0.5815238324343435\n",
      "total error :  10.564946884294404\n"
     ]
    }
   ],
   "source": [
    "y_out=[]\n",
    "error=0\n",
    "for i in range(len(x1)):\n",
    "    y_out.append(x1[i]*parameter[0]+x2[i]*parameter[1]+x3[i]*parameter[2]+parameter[3])\n",
    "    print(i+1,\"actual : \",y[i],\"predicted : \",y_out[i],\" error \",y[i]-y_out[i])\n",
    "    error=error+(y[i]-y_out[i])**2\n",
    "print(\"total error : \",error)\n"
   ]
  },
  {
   "cell_type": "code",
   "execution_count": 91,
   "metadata": {},
   "outputs": [
    {
     "data": {
      "text/plain": [
       "[<matplotlib.lines.Line2D at 0x1c955058d60>]"
      ]
     },
     "execution_count": 91,
     "metadata": {},
     "output_type": "execute_result"
    },
    {
     "data": {
      "image/png": "[encoded data removed]",
      "text/plain": [
       "<Figure size 432x288 with 1 Axes>"
      ]
     },
     "metadata": {
      "needs_background": "light"
     },
     "output_type": "display_data"
    }
   ],
   "source": [
    "from matplotlib import pyplot as plt\n",
    "\n",
    "plt.scatter(x1,x2,x3,y)\n",
    "#plt.scatter(x2,y)\n",
    "#plt.scatter(x3,y)\n",
    "#plt.plot(x1,y_out)"
   ]
  },
  {
   "cell_type": "code",
   "execution_count": null,
   "metadata": {},
   "outputs": [],
   "source": []
  }
 ],
 "metadata": {
  "kernelspec": {
   "display_name": "Python 3",
   "language": "python",
   "name": "python3"
  },
  "language_info": {
   "codemirror_mode": {
    "name": "ipython",
    "version": 3
   },
   "file_extension": ".py",
   "mimetype": "text/x-python",
   "name": "python",
   "nbconvert_exporter": "python",
   "pygments_lexer": "ipython3",
   "version": "3.8.3"
  }
 },
 "nbformat": 4,
 "nbformat_minor": 4
}
