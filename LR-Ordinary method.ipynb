{
 "cells": [
  {
   "cell_type": "code",
   "execution_count": 3,
   "metadata": {},
   "outputs": [
    {
     "data": {
      "text/plain": [
       "17"
      ]
     },
     "execution_count": 3,
     "metadata": {},
     "output_type": "execute_result"
    }
   ],
   "source": [
    "x=[89,66,78,111,44,77,80,66,109,75,85,110,45,79,90,76,81]\n",
    "y=[7,5.4,6.6,7.4,4.8,6.4,7,5.6,7.3,6.4,6.9,7.3,4.8,6.8,7,6.5,7]\n",
    "len(x)\n",
    "len(y)"
   ]
  },
  {
   "cell_type": "code",
   "execution_count": 4,
   "metadata": {},
   "outputs": [
    {
     "name": "stdout",
     "output_type": "stream",
     "text": [
      "b1 :  0.04017696280578132\n",
      "b0 :  3.265832565960683\n"
     ]
    }
   ],
   "source": [
    "import numpy as np\n",
    "num=0\n",
    "den=0\n",
    "for i in range(len(x)):\n",
    "    num=num+(x[i]-np.mean(x))*(y[i]-np.mean(y))\n",
    "    den=den+(x[i]-np.mean(x))**2\n",
    "b1=num/den\n",
    "print(\"b1 : \",b1)\n",
    "\n",
    "b0=np.mean(y)-b1*np.mean(x)\n",
    "\n",
    "print(\"b0 : \",b0)\n"
   ]
  },
  {
   "cell_type": "code",
   "execution_count": 5,
   "metadata": {},
   "outputs": [
    {
     "name": "stdout",
     "output_type": "stream",
     "text": [
      "[7, 5.4, 6.6, 7.4, 4.8, 6.4, 7, 5.6, 7.3, 6.4, 6.9, 7.3, 4.8, 6.8, 7, 6.5, 7]\n",
      "[6.84158226 5.91751211 6.39963566 7.72547544 5.03361893 6.3594587\n",
      " 6.47998959 5.91751211 7.64512151 6.27910478 6.6808744  7.68529847\n",
      " 5.07379589 6.43981263 6.88175922 6.31928174 6.52016655]\n"
     ]
    }
   ],
   "source": [
    "y_hat=np.zeros(len(x))\n",
    "for i in range(len(x)):\n",
    "    y_hat[i]=(b1*x[i]+b0)\n",
    "\n",
    "print(y)\n",
    "\n",
    "print(y_hat)\n"
   ]
  },
  {
   "cell_type": "code",
   "execution_count": 6,
   "metadata": {},
   "outputs": [
    {
     "name": "stdout",
     "output_type": "stream",
     "text": [
      "r square :  0.005336159802635155\n"
     ]
    }
   ],
   "source": [
    "r_square=0\n",
    "for i in range(len(x)):\n",
    "    num=(y_hat[i]-np.mean(y))**2\n",
    "    den=(y[i]-np.mean(y))**2\n",
    "r_square=num/den\n",
    "\n",
    "print(\"r square : \",r_square)\n",
    "    "
   ]
  },
  {
   "cell_type": "code",
   "execution_count": 9,
   "metadata": {},
   "outputs": [
    {
     "name": "stdout",
     "output_type": "stream",
     "text": [
      "Error for 1  0.025096181716951244\n",
      "Error for 2  0.2678187851789076\n",
      "Error for 3  0.04014586681547888\n",
      "Error for 4  0.10593426035228912\n",
      "Error for 5  0.054577804181039365\n",
      "Error for 6  0.0016435968430509357\n",
      "Error for 7  0.2704108260682434\n",
      "Error for 8  0.10081394072200843\n",
      "Error for 9  0.11910885790080024\n",
      "Error for 10  0.014615655090676534\n",
      "Error for 11  0.04801602662422414\n",
      "Error for 12  0.14845491452648868\n",
      "Error for 13  0.07496419059700686\n",
      "Error for 14  0.12973494322387674\n",
      "Error for 15  0.013980882414223648\n",
      "Error for 16  0.03265908978655401\n",
      "Error for 17  0.23024013664016701\n",
      "Final error :  1.678215958681987\n"
     ]
    }
   ],
   "source": [
    "error=0\n",
    "for i in range(len(x)):\n",
    "    print(\"Error for \",i+1,\"\",(y[i]-y_hat[i])**2)\n",
    "    error=error+(y[i]-y_hat[i])**2\n",
    "    #print(error)\n",
    "print(\"Final error : \",error)"
   ]
  },
  {
   "cell_type": "code",
   "execution_count": 11,
   "metadata": {},
   "outputs": [
    {
     "data": {
      "image/png": "[encoded data removed]",
      "text/plain": [
       "<Figure size 432x288 with 1 Axes>"
      ]
     },
     "metadata": {
      "needs_background": "light"
     },
     "output_type": "display_data"
    }
   ],
   "source": [
    "import matplotlib.pyplot as plt\n",
    "plt.scatter(x,y)\n",
    "plt.plot(x,y_hat)\n",
    "plt.show()"
   ]
  },
  {
   "cell_type": "code",
   "execution_count": null,
   "metadata": {},
   "outputs": [],
   "source": []
  }
 ],
 "metadata": {
  "kernelspec": {
   "display_name": "Python 3",
   "language": "python",
   "name": "python3"
  },
  "language_info": {
   "codemirror_mode": {
    "name": "ipython",
    "version": 3
   },
   "file_extension": ".py",
   "mimetype": "text/x-python",
   "name": "python",
   "nbconvert_exporter": "python",
   "pygments_lexer": "ipython3",
   "version": "3.8.3"
  }
 },
 "nbformat": 4,
 "nbformat_minor": 4
}
