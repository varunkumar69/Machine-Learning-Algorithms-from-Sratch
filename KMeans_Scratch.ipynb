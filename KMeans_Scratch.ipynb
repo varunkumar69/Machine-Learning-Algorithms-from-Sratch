{
  "nbformat": 4,
  "nbformat_minor": 0,
  "metadata": {
    "colab": {
      "name": "KMeans-Scratch",
      "provenance": [],
      "collapsed_sections": []
    },
    "kernelspec": {
      "name": "python3",
      "display_name": "Python 3"
    }
  },
  "cells": [
    {
      "cell_type": "code",
      "metadata": {
        "id": "rm7uLEP8AVxN",
        "colab": {
          "base_uri": "https://localhost:8080/",
          "height": 235
        },
        "outputId": "75daf5a7-9ab4-42b3-8439-5888987b638e"
      },
      "source": [
        "import pandas as pd\n",
        "import numpy as np\n",
        "import matplotlib.pyplot as plt\n",
        "\n",
        "#a={'F1':[1.5,2,1.6,1.2,1.5],'F2':[1.7,1.9,1.8,1.5,1]}\n",
        "a={'F1':[10,15,50,80,10,90],'F2':[20,18,80,80,6,100]}\n",
        "df=pd.DataFrame(a)\n",
        "df\n",
        "\n",
        "#plt.scatter(df['F1'],df['F2'])"
      ],
      "execution_count": null,
      "outputs": [
        {
          "output_type": "execute_result",
          "data": {
            "text/html": [
              "<div>\n",
              "<style scoped>\n",
              "    .dataframe tbody tr th:only-of-type {\n",
              "        vertical-align: middle;\n",
              "    }\n",
              "\n",
              "    .dataframe tbody tr th {\n",
              "        vertical-align: top;\n",
              "    }\n",
              "\n",
              "    .dataframe thead th {\n",
              "        text-align: right;\n",
              "    }\n",
              "</style>\n",
              "<table border=\"1\" class=\"dataframe\">\n",
              "  <thead>\n",
              "    <tr style=\"text-align: right;\">\n",
              "      <th></th>\n",
              "      <th>F1</th>\n",
              "      <th>F2</th>\n",
              "    </tr>\n",
              "  </thead>\n",
              "  <tbody>\n",
              "    <tr>\n",
              "      <th>0</th>\n",
              "      <td>10</td>\n",
              "      <td>20</td>\n",
              "    </tr>\n",
              "    <tr>\n",
              "      <th>1</th>\n",
              "      <td>15</td>\n",
              "      <td>18</td>\n",
              "    </tr>\n",
              "    <tr>\n",
              "      <th>2</th>\n",
              "      <td>50</td>\n",
              "      <td>80</td>\n",
              "    </tr>\n",
              "    <tr>\n",
              "      <th>3</th>\n",
              "      <td>80</td>\n",
              "      <td>80</td>\n",
              "    </tr>\n",
              "    <tr>\n",
              "      <th>4</th>\n",
              "      <td>10</td>\n",
              "      <td>6</td>\n",
              "    </tr>\n",
              "    <tr>\n",
              "      <th>5</th>\n",
              "      <td>90</td>\n",
              "      <td>100</td>\n",
              "    </tr>\n",
              "  </tbody>\n",
              "</table>\n",
              "</div>"
            ],
            "text/plain": [
              "   F1   F2\n",
              "0  10   20\n",
              "1  15   18\n",
              "2  50   80\n",
              "3  80   80\n",
              "4  10    6\n",
              "5  90  100"
            ]
          },
          "metadata": {
            "tags": []
          },
          "execution_count": 1
        }
      ]
    },
    {
      "cell_type": "code",
      "metadata": {
        "id": "Ivdsbw02I1qs",
        "colab": {
          "base_uri": "https://localhost:8080/"
        },
        "outputId": "baa63109-7396-4865-9805-5e70ebf92bd3"
      },
      "source": [
        "\n",
        "\n",
        "centroids=[]\n",
        "\n",
        "centroids.append(list(df.iloc[1]))\n",
        "centroids.append(list(df.iloc[4]))\n",
        "\n",
        "distances=np.zeros([2,6])\n",
        "distances\n",
        "cluster=[[],[]]\n",
        "\n",
        "previous_clusters=[]\n",
        "previous_centroids=[]\n",
        "\n",
        "\n",
        "v=0\n",
        "while(1):\n",
        "  v=v+1\n",
        "  previous_clusters.append(list(cluster))\n",
        "  previous_centroids.append(list(centroids))\n",
        "  for i in range(len(distances)):\n",
        "    for j in range(len(df)):\n",
        "      dist=np.linalg.norm(np.array(centroids[i])-np.array(df.iloc[j]))\n",
        "      \n",
        "      distances[i,j]=dist\n",
        "  #print(distances)\n",
        "  cluster=[[],[]]\n",
        "  for i in range(len(df)):\n",
        "    if distances[0,i]<=distances[1,i]:\n",
        "      cluster[0].append(i)\n",
        "    else:\n",
        "      cluster[1].append(i)\n",
        "  \n",
        "  \n",
        "  for i in range(len(cluster)):\n",
        "    c_x=0\n",
        "    c_y=0\n",
        "    for j in cluster[i]:\n",
        "      c_x+=df.iloc[j,0]\n",
        "      c_y+=df.iloc[j,1]\n",
        "    centroids[i][0]=c_x/len(cluster[i])\n",
        "    centroids[i][1]=c_y/len(cluster[i])\n",
        "    #print(centroids)\n",
        "\n",
        "  if cluster==previous_clusters[-1]:\n",
        "    break"
      ],
      "execution_count": null,
      "outputs": [
        {
          "output_type": "stream",
          "text": [
            "[[49.0, 59.6], [10, 6]]\n",
            "[[49.0, 59.6], [10.0, 6.0]]\n",
            "[[73.33333333333333, 86.66666666666667], [10.0, 6.0]]\n",
            "[[73.33333333333333, 86.66666666666667], [11.666666666666666, 14.666666666666666]]\n",
            "[[73.33333333333333, 86.66666666666667], [11.666666666666666, 14.666666666666666]]\n",
            "[[73.33333333333333, 86.66666666666667], [11.666666666666666, 14.666666666666666]]\n"
          ],
          "name": "stdout"
        }
      ]
    },
    {
      "cell_type": "code",
      "metadata": {
        "id": "h-6qAmvw-92X",
        "colab": {
          "base_uri": "https://localhost:8080/"
        },
        "outputId": "0685a018-78f8-4e11-e965-b8e7366cb089"
      },
      "source": [
        "print(\" Clusters 1 : \",cluster[0],\" Cluster 2 : \",cluster[1])\n",
        "\n",
        "print(\"Centroids  :  \",centroids)\n",
        "\n"
      ],
      "execution_count": null,
      "outputs": [
        {
          "output_type": "stream",
          "text": [
            " Clusters 1 :  [2, 3, 5]  Cluster 2 :  [0, 1, 4]\n",
            "Centroids  :   [[73.33333333333333, 86.66666666666667], [11.666666666666666, 14.666666666666666]]\n"
          ],
          "name": "stdout"
        }
      ]
    },
    {
      "cell_type": "code",
      "metadata": {
        "id": "ICe0GXNqP0Si",
        "colab": {
          "base_uri": "https://localhost:8080/"
        },
        "outputId": "7bfc8324-cb9b-40a7-fa41-a19dc7a3ae8d"
      },
      "source": [
        "previous_centroids"
      ],
      "execution_count": null,
      "outputs": [
        {
          "output_type": "execute_result",
          "data": {
            "text/plain": [
              "[[[73.33333333333333, 86.66666666666667],\n",
              "  [11.666666666666666, 14.666666666666666]],\n",
              " [[73.33333333333333, 86.66666666666667],\n",
              "  [11.666666666666666, 14.666666666666666]],\n",
              " [[73.33333333333333, 86.66666666666667],\n",
              "  [11.666666666666666, 14.666666666666666]]]"
            ]
          },
          "metadata": {
            "tags": []
          },
          "execution_count": 7
        }
      ]
    },
    {
      "cell_type": "code",
      "metadata": {
        "id": "472KJL5gLT-z"
      },
      "source": [
        "f={\"F1\":[centroids[0][0],centroids[1][0]],\"F2\":[centroids[0][1],centroids[1][1]]}\n",
        "kf=pd.DataFrame(f)"
      ],
      "execution_count": null,
      "outputs": []
    },
    {
      "cell_type": "code",
      "metadata": {
        "id": "6EWZHbrZKOiu"
      },
      "source": [
        "\n",
        "#plt.scatter(df['F1'], df['F2'], s=50, alpha=0.5)\n",
        "#plt.scatter(kf['F1'],kf['F2'], c='red', s=50,alpha=0.5)\n",
        "#plt.show()"
      ],
      "execution_count": null,
      "outputs": []
    },
    {
      "cell_type": "code",
      "metadata": {
        "id": "-rQCprdTKtPZ",
        "colab": {
          "base_uri": "https://localhost:8080/",
          "height": 265
        },
        "outputId": "a96cd9e4-e67e-4bc6-e1e8-d2f475cf079d"
      },
      "source": [
        "import matplotlib.pyplot as plt\n",
        "for i in range(len(df)):\n",
        "  if i in cluster[0]:\n",
        "    color='y'\n",
        "  else:\n",
        "    color='b'\n",
        "  plt.scatter(df.iloc[i,0],df.iloc[i,1],c=color)\n",
        "plt.scatter(kf['F1'],kf['F2'], c='red', s=50,alpha=0.5)\n",
        "plt.show()"
      ],
      "execution_count": null,
      "outputs": [
        {
          "output_type": "display_data",
          "data": {
            "image/png": "[encoded data removed]",
            "text/plain": [
              "<Figure size 432x288 with 1 Axes>"
            ]
          },
          "metadata": {
            "tags": [],
            "needs_background": "light"
          }
        }
      ]
    },
    {
      "cell_type": "code",
      "metadata": {
        "id": "KxnZZFKkXqzr"
      },
      "source": [
        ""
      ],
      "execution_count": null,
      "outputs": []
    }
  ]
}