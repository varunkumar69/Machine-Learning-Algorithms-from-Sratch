{
  "nbformat": 4,
  "nbformat_minor": 0,
  "metadata": {
    "colab": {
      "name": "KMediods-Scratch-VN",
      "provenance": []
    },
    "kernelspec": {
      "name": "python3",
      "display_name": "Python 3"
    }
  },
  "cells": [
    {
      "cell_type": "code",
      "metadata": {
        "id": "k8ZhLK1QWX3q",
        "colab": {
          "base_uri": "https://localhost:8080/",
          "height": 384
        },
        "outputId": "2c794e33-3f82-441f-9ecb-a5bae87d5553"
      },
      "source": [
        "import pandas as pd\n",
        "import numpy as np\n",
        "import matplotlib.pyplot as plt\n",
        "\n",
        "#a={'F1':[1.5,2,1.6,1.2,1.5],'F2':[1.7,1.9,1.8,1.5,1]}\n",
        "a={'F1':[10,15,50,80,10,90],'F2':[20,18,80,80,6,100]}\n",
        "df=pd.DataFrame(a)\n",
        "print(df.head())\n",
        "\n",
        "\n",
        "plt.scatter(df['F1'],df['F2'])"
      ],
      "execution_count": null,
      "outputs": [
        {
          "output_type": "stream",
          "text": [
            "   F1  F2\n",
            "0  10  20\n",
            "1  15  18\n",
            "2  50  80\n",
            "3  80  80\n",
            "4  10   6\n"
          ],
          "name": "stdout"
        },
        {
          "output_type": "execute_result",
          "data": {
            "text/plain": [
              "<matplotlib.collections.PathCollection at 0x7f8bd4f24e80>"
            ]
          },
          "metadata": {
            "tags": []
          },
          "execution_count": 1
        },
        {
          "output_type": "display_data",
          "data": {
            "image/png": "[encoded data removed]",
            "text/plain": [
              "<Figure size 432x288 with 1 Axes>"
            ]
          },
          "metadata": {
            "tags": [],
            "needs_background": "light"
          }
        }
      ]
    },
    {
      "cell_type": "code",
      "metadata": {
        "id": "kESMkRtbZnPe"
      },
      "source": [
        "from collections import defaultdict \n",
        "distances_dict=defaultdict()\n",
        "\n",
        "distances=np.zeros([2,6])"
      ],
      "execution_count": null,
      "outputs": []
    },
    {
      "cell_type": "code",
      "metadata": {
        "id": "yZMQm_L7kxzS"
      },
      "source": [
        "for q in range(len(df)):\n",
        "for i in range(len(df)-1):\n",
        "  medoids=[]\n",
        "  medoids.append(list(df.iloc[i]))\n",
        "  medoids.append(list(df.iloc[i+1]))\n",
        "  for j in range(len(medoids)):\n",
        "    for k in range(len(df)):\n",
        "      dist=abs(np.array(df.iloc[k,0])- np.array(medoids[j][1]))  +  abs(np.array(df.iloc[k,1])-np.array(medoids[j][1]))\n",
        "      distances[j,k]=dist\n",
        "  cost=0\n",
        "  for v in range(len(df)):\n",
        "    if distances[0,v]<=distances[1,v]:\n",
        "      cost=cost+distances[0,v]\n",
        "    else:\n",
        "      cost=cost+distances[1,v]\n",
        "  distances_dict[cost]=medoids\n",
        "\n"
      ],
      "execution_count": null,
      "outputs": []
    },
    {
      "cell_type": "code",
      "metadata": {
        "id": "GKtS8CzjahZy"
      },
      "source": [
        "for q in range(len(df)):\n",
        "  for i in range(len(df)-1):\n",
        "    medoids=[]\n",
        "    medoids.append(list(df.iloc[q]))\n",
        "    medoids.append(list(df.iloc[i+1]))\n",
        "    for j in range(len(medoids)):\n",
        "      for k in range(len(df)):\n",
        "        dist=abs(np.array(df.iloc[k,0])- np.array(medoids[j][1]))  +  abs(np.array(df.iloc[k,1])-np.array(medoids[j][1]))\n",
        "        distances[j,k]=dist\n",
        "    cost=0\n",
        "    for v in range(len(df)):\n",
        "      if distances[0,v]<=distances[1,v]:\n",
        "        cost=cost+distances[0,v]\n",
        "      else:\n",
        "        cost=cost+distances[1,v]\n",
        "    distances_dict[cost]=medoids\n"
      ],
      "execution_count": null,
      "outputs": []
    },
    {
      "cell_type": "code",
      "metadata": {
        "id": "YKxIR2V6einr",
        "colab": {
          "base_uri": "https://localhost:8080/",
          "height": 312
        },
        "outputId": "7ed833c0-691a-4999-db3c-3a9dc9c48064"
      },
      "source": [
        "print(\"Cost of all possible medoids\\n\")\n",
        "distances_dict"
      ],
      "execution_count": null,
      "outputs": [
        {
          "output_type": "stream",
          "text": [
            "Cost of all possible medoids\n",
            "\n"
          ],
          "name": "stdout"
        },
        {
          "output_type": "execute_result",
          "data": {
            "text/plain": [
              "defaultdict(None,\n",
              "            {93.0: [[80, 80], [15, 18]],\n",
              "             101.0: [[10, 20], [80, 80]],\n",
              "             103.0: [[10, 6], [80, 80]],\n",
              "             153.0: [[90, 100], [15, 18]],\n",
              "             161.0: [[10, 20], [90, 100]],\n",
              "             163.0: [[90, 100], [10, 6]],\n",
              "             381.0: [[10, 20], [10, 6]],\n",
              "             389.0: [[10, 6], [15, 18]],\n",
              "             393.0: [[10, 20], [15, 18]],\n",
              "             405.0: [[15, 18], [15, 18]],\n",
              "             441.0: [[90, 100], [80, 80]],\n",
              "             461.0: [[80, 80], [80, 80]],\n",
              "             487.0: [[10, 6], [10, 6]],\n",
              "             641.0: [[90, 100], [90, 100]]})"
            ]
          },
          "metadata": {
            "tags": []
          },
          "execution_count": 65
        }
      ]
    },
    {
      "cell_type": "code",
      "metadata": {
        "id": "QvTgK_8LoPEd",
        "colab": {
          "base_uri": "https://localhost:8080/",
          "height": 35
        },
        "outputId": "5b633465-e843-4283-8036-a6d6ee9a8487"
      },
      "source": [
        "medoids=distances_dict[min(distances_dict.keys())]\n",
        "print(\"Medoids with least cost : \",medoids)"
      ],
      "execution_count": null,
      "outputs": [
        {
          "output_type": "stream",
          "text": [
            "Medoids with least cost :  [[80, 80], [15, 18]]\n"
          ],
          "name": "stdout"
        }
      ]
    },
    {
      "cell_type": "code",
      "metadata": {
        "id": "InlU2I_2rERU"
      },
      "source": [
        "for j in range(len(medoids)):\n",
        "    for k in range(len(df)):\n",
        "      dist=abs(np.array(df.iloc[k,0])- np.array(medoids[j][1]))  +  abs(np.array(df.iloc[k,1])-np.array(medoids[j][1]))\n",
        "      distances[j,k]=dist\n",
        "cluster=[[],[]]\n",
        "for i in range(len(df)):\n",
        "  if distances[0,i]<=distances[1,i]:\n",
        "    cluster[0].append(i)\n",
        "  else:\n",
        "    cluster[1].append(i)\n"
      ],
      "execution_count": null,
      "outputs": []
    },
    {
      "cell_type": "code",
      "metadata": {
        "id": "v2etT_TTsUFx",
        "colab": {
          "base_uri": "https://localhost:8080/",
          "height": 52
        },
        "outputId": "095c2b95-5c2e-4c8b-c234-4eaa971c01f4"
      },
      "source": [
        "distances"
      ],
      "execution_count": null,
      "outputs": [
        {
          "output_type": "execute_result",
          "data": {
            "text/plain": [
              "array([[130., 127.,  30.,   0., 144.,  30.],\n",
              "       [ 10.,   3.,  94., 124.,  20., 154.]])"
            ]
          },
          "metadata": {
            "tags": []
          },
          "execution_count": 59
        }
      ]
    },
    {
      "cell_type": "code",
      "metadata": {
        "id": "qVKgFENmsVkB",
        "colab": {
          "base_uri": "https://localhost:8080/",
          "height": 52
        },
        "outputId": "3583272e-1f3f-4f71-865f-2ffa57905650"
      },
      "source": [
        "print(\"Cluster 1 \",medoids[0],\"  :\",cluster[0])\n",
        "print(\"Cluster 2 \",medoids[1],\"  :\",cluster[1])"
      ],
      "execution_count": null,
      "outputs": [
        {
          "output_type": "stream",
          "text": [
            "Cluster 1  [80, 80]   : [2, 3, 5]\n",
            "Cluster 2  [15, 18]   : [0, 1, 4]\n"
          ],
          "name": "stdout"
        }
      ]
    },
    {
      "cell_type": "code",
      "metadata": {
        "id": "3vBuoOKMtgwe"
      },
      "source": [
        ""
      ],
      "execution_count": null,
      "outputs": []
    }
  ]
}