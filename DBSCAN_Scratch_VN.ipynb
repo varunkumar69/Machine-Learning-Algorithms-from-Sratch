{
  "nbformat": 4,
  "nbformat_minor": 0,
  "metadata": {
    "colab": {
      "name": "DBSCAN-Scratch-VN",
      "provenance": []
    },
    "kernelspec": {
      "name": "python3",
      "display_name": "Python 3"
    }
  },
  "cells": [
    {
      "cell_type": "code",
      "metadata": {
        "id": "6lzxNvuZS32q",
        "colab": {
          "base_uri": "https://localhost:8080/",
          "height": 283
        },
        "outputId": "27a6a2df-b97d-46a5-98eb-24969d89284f"
      },
      "source": [
        "import pandas as pd\n",
        "import matplotlib.pyplot as plt\n",
        "\"a={'F1':[8.402203882948499070e-01],'F2':[1.148022355139007411e+00]}\"\n",
        "\n",
        "a=[[8.402203882948499070e-01,    1.148022355139007411e+00],\n",
        "[-1.154748338740258617e+00,    -1.204117095853451502e+00],\n",
        "[6.786361343304635474e-01,    7.241800888999196939e-01],\n",
        "[4.507829796196418659e-01,    -1.427096804407642638e+00],\n",
        "[-9.819463938271958403e-01,    -6.415007759197677295e-02],\n",
        "[-1.023434620453544275e+00,    -1.127017237572079722e+00],\n",
        "[9.351126209693236824e-01,    -6.922279287290784566e-01],\n",
        "[1.450654368842602793e+00,    5.680273966546306452e-01],\n",
        "[1.379768322770304367e+00,    1.035020496554076352e+00],\n",
        "[-9.344285710189653704e-01,    -9.614714576315213090e-01],\n",
        "[-9.701654373825785438e-01,    -1.430839627761598010e+00],\n",
        "[-7.640480717061921556e-01,    -1.145543523988316048e+00],\n",
        "[1.523467500940871577e+00,    -1.010319423301794917e+00],\n",
        "[-4.856063971678827862e-01,    -1.602799359285708825e+00],\n",
        "[5.375270272712349140e-01,    1.312479240683997350e+00],\n",
        "[-1.156955599259854583e+00,    -2.218457221919970745e+00],\n",
        "[-6.236329541699545675e-01,    -8.379183678708447269e-01],\n",
        "[-1.978451440910475867e-01,    -6.476249755676113384e-01],\n",
        "[7.802005814783838922e-01,    -1.439428291022131878e+00],\n",
        "[8.130027305368585644e-01,    -1.344997319889893461e+00],\n",
        "[8.693756089283168897e-01,    -1.003283952907845666e+00],\n",
        "[1.308334784161974795e+00,    -9.027327138390033312e-01],\n",
        "[1.309664243927526561e+00,    -1.309783587508330349e+00],\n",
        "[-1.110573138006334837e+00,    -1.103830792733615729e+00],\n",
        "[-8.700521536815255530e-01,    -6.011528076832961531e-01],\n",
        "[8.395061160355270502e-01,    -1.320032990433840592e+00],\n",
        "[1.245631748138432027e+00,    1.368882668626610677e+00],\n",
        "[5.863028632862141709e-01,    1.272637807312650748e+00],\n",
        "[1.394127003575946766e+00,    -6.932321321355203736e-01],\n",
        "[8.236309470829634716e-01,    8.878578019261963439e-01],\n",
        "[-9.104625746748357118e-01,    -8.681508071489048017e-01],\n",
        "[-1.600958627752685270e+00,    -1.711066781893482602e+00],\n",
        "[8.753789871490509356e-01,    1.022466136891898136e+00],\n",
        "[-6.254217096675536158e-01,    -1.014038070747868225e+00],\n",
        "[1.112176682126518434e+00,    6.027505556281677057e-01],\n",
        "[1.214638608226729311e+00,    -8.381218177542798520e-01],\n",
        "[8.387292212107281264e-01,    1.488978028152970978e+00],\n",
        "[7.221728561074538533e-01,    9.401461838689316730e-01],\n",
        "[1.539775939248769765e-01,    -4.378538245102318038e-01],\n",
        "[1.222385071883919316e+00,    -6.430104450673879146e-01],\n",
        "[-1.004458244736736505e+00,    -9.954004400519750329e-01],\n",
        "[-1.188013153080349937e+00,    -1.086692588230215417e+00],\n",
        "[-1.208631871197349383e+00,    -1.473874636164620888e+00],\n",
        "[-1.945669526856472098e+00,    -9.918663273179026962e-01],\n",
        "[-7.883819046662273733e-01,    -8.309485513164697190e-01],\n",
        "[8.897317861757771951e-01,    7.161088136612446808e-01],\n",
        "[1.182923858688324614e+00,    -6.150633020742619639e-01],\n",
        "[8.007870197230779752e-01,    1.771812821526794313e+00],\n",
        "[-1.319768959817238629e+00,    -9.036849961032246137e-01],\n",
        "[1.704506450967945286e+00,    -6.983617345375028318e-01],\n",
        "[1.039351162726190214e+00,    -8.474334983163316348e-01],\n",
        "[-1.340691678901436035e+00,    -2.709105599488161875e-01],\n",
        "[-1.264022528053633243e+00,    -9.296724186815887858e-01],\n",
        "[1.416034498021481181e+00,    -9.341424761894409068e-01],\n",
        "[1.086871853055312087e+00,    -9.687155275631391671e-01],\n",
        "[-8.542075003037977732e-01,    -4.114712175430647045e-01],\n",
        "[1.747023584170627863e+00,    1.362417863310154242e+00],\n",
        "[5.581533609894115955e-01,    -1.012374502909583640e+00],\n",
        "[-9.041668960574434921e-01,    -1.147920466521521243e+00],\n",
        "[6.985182135277596682e-01,    -9.449240696386610461e-01],\n",
        "[9.375904436010850107e-01,    -5.803627248319958021e-01],\n",
        "[1.139267694096723460e+00,    -7.346967641283304040e-01],\n",
        "[1.643408862379489577e+00,    -1.224631499841288385e+00],\n",
        "[8.976169323142926260e-01,    -1.139218551857047679e+00],\n",
        "[1.345774479543802249e+00,    7.031339918374232001e-01],\n",
        "[1.061867533458532797e+00,    -5.833726444725673144e-01],\n",
        "[3.444770771511288521e-01,    -1.293325123033466362e+00],\n",
        "[4.918060006057065614e-01,    1.387758683263204507e+00],\n",
        "]\n",
        "df=pd.DataFrame(a)\n",
        "plt.scatter(df[0],df[1])"
      ],
      "execution_count": null,
      "outputs": [
        {
          "output_type": "execute_result",
          "data": {
            "text/plain": [
              "<matplotlib.collections.PathCollection at 0x7f452cdbea20>"
            ]
          },
          "metadata": {
            "tags": []
          },
          "execution_count": 2
        },
        {
          "output_type": "display_data",
          "data": {
            "image/png": "[encoded data removed]",
            "text/plain": [
              "<Figure size 432x288 with 1 Axes>"
            ]
          },
          "metadata": {
            "tags": [],
            "needs_background": "light"
          }
        }
      ]
    },
    {
      "cell_type": "code",
      "metadata": {
        "id": "EvHDMoAVecfI"
      },
      "source": [
        "from collections import defaultdict\n",
        "import numpy as np\n",
        "ep=0.1799\n",
        "min=3\n",
        "points=[]\n",
        "core=defaultdict()\n",
        "border=defaultdict()\n",
        "noise=[]\n",
        "temp=[]\n",
        "c=0\n",
        "core_points=[]\n",
        "clusters=defaultdict()\n",
        "core_clusters=[]\n",
        "for i in range(len(df)):\n",
        "  c=0\n",
        "  points=[]\n",
        "  for j in range(len(df)):\n",
        "    dist=np.linalg.norm(np.array(df.iloc[i])-np.array(df.iloc[j]))\n",
        "    if dist<=ep:\n",
        "      c=c+1\n",
        "      points.append(j)\n",
        "  if c>=min:\n",
        "    core[i]=points\n",
        "    core_points.append(i)\n",
        "\n",
        "for v in range(len(df)):\n",
        "  if v not in core_points:\n",
        "    for h in core_points:\n",
        "      dist=np.linalg.norm(np.array(df.iloc[h])-np.array(df.iloc[v]))\n",
        "      if dist<=ep:\n",
        "        clusters[h]=v\n",
        "for d in core_points:\n",
        "  temp=[]\n",
        "  for g in core_points:\n",
        "    dist=np.linalg.norm(np.array(df.iloc[d])-np.array(df.iloc[g]))\n",
        "    if dist<=ep:\n",
        "      temp.append(d)\n",
        "      temp.append(g)\n",
        "    core_clusters.append(temp)\n",
        "\n",
        "\n",
        " \n",
        "  "
      ],
      "execution_count": null,
      "outputs": []
    },
    {
      "cell_type": "code",
      "metadata": {
        "id": "gqYBCiUsvotv",
        "colab": {
          "base_uri": "https://localhost:8080/"
        },
        "outputId": "df2d34dc-4acc-4913-cbd6-ace32d71c033"
      },
      "source": [
        "core"
      ],
      "execution_count": null,
      "outputs": [
        {
          "output_type": "execute_result",
          "data": {
            "text/plain": [
              "defaultdict(None,\n",
              "            {1: [1, 5, 23, 41],\n",
              "             5: [1, 5, 23, 40, 41, 58],\n",
              "             6: [6, 60, 65],\n",
              "             9: [9, 30, 40],\n",
              "             14: [14, 27, 67],\n",
              "             16: [16, 33, 44],\n",
              "             18: [18, 19, 25],\n",
              "             19: [18, 19, 25],\n",
              "             21: [21, 35, 53],\n",
              "             23: [1, 5, 23, 40, 41],\n",
              "             25: [18, 19, 25],\n",
              "             27: [14, 27, 67],\n",
              "             29: [29, 32, 37],\n",
              "             30: [9, 30, 40, 44],\n",
              "             32: [0, 29, 32, 37],\n",
              "             35: [21, 35, 50, 61],\n",
              "             37: [29, 32, 37],\n",
              "             39: [28, 39, 46, 61, 65],\n",
              "             40: [5, 9, 23, 30, 40],\n",
              "             41: [1, 5, 23, 41, 52],\n",
              "             44: [16, 30, 44],\n",
              "             46: [39, 46, 61, 65],\n",
              "             50: [35, 50, 54, 61],\n",
              "             52: [41, 48, 52],\n",
              "             53: [12, 21, 53],\n",
              "             58: [5, 11, 58],\n",
              "             60: [6, 60, 65],\n",
              "             61: [35, 39, 46, 50, 61, 65],\n",
              "             65: [6, 39, 46, 60, 61, 65],\n",
              "             67: [14, 27, 67]})"
            ]
          },
          "metadata": {
            "tags": []
          },
          "execution_count": 27
        }
      ]
    },
    {
      "cell_type": "code",
      "metadata": {
        "id": "fYhnEh7xwKYS",
        "colab": {
          "base_uri": "https://localhost:8080/"
        },
        "outputId": "a246bb80-b5a2-4643-c0ea-a266c0607184"
      },
      "source": [
        "clusters"
      ],
      "execution_count": null,
      "outputs": [
        {
          "output_type": "execute_result",
          "data": {
            "text/plain": [
              "defaultdict(None, {16: 33, 32: 0, 39: 28, 50: 54, 52: 48, 53: 12, 58: 11})"
            ]
          },
          "metadata": {
            "tags": []
          },
          "execution_count": 4
        }
      ]
    },
    {
      "cell_type": "code",
      "metadata": {
        "id": "IxjcCRqSyHMC",
        "colab": {
          "base_uri": "https://localhost:8080/"
        },
        "outputId": "4cc79f1c-d101-4af6-ca4f-7a12b12e7cbe"
      },
      "source": [
        "core_points"
      ],
      "execution_count": null,
      "outputs": [
        {
          "output_type": "execute_result",
          "data": {
            "text/plain": [
              "[1,\n",
              " 5,\n",
              " 6,\n",
              " 9,\n",
              " 14,\n",
              " 16,\n",
              " 18,\n",
              " 19,\n",
              " 21,\n",
              " 23,\n",
              " 25,\n",
              " 27,\n",
              " 29,\n",
              " 30,\n",
              " 32,\n",
              " 35,\n",
              " 37,\n",
              " 39,\n",
              " 40,\n",
              " 41,\n",
              " 44,\n",
              " 46,\n",
              " 50,\n",
              " 52,\n",
              " 53,\n",
              " 58,\n",
              " 60,\n",
              " 61,\n",
              " 65,\n",
              " 67]"
            ]
          },
          "metadata": {
            "tags": []
          },
          "execution_count": 31
        }
      ]
    },
    {
      "cell_type": "code",
      "metadata": {
        "id": "NX7TPd2WLfB5",
        "colab": {
          "base_uri": "https://localhost:8080/"
        },
        "outputId": "0a484c47-80c3-4a86-b6c4-148a97164e8f"
      },
      "source": [
        "clusters"
      ],
      "execution_count": null,
      "outputs": [
        {
          "output_type": "execute_result",
          "data": {
            "text/plain": [
              "defaultdict(None, {16: 33, 32: 0, 39: 28, 50: 54, 52: 48, 53: 12, 58: 11})"
            ]
          },
          "metadata": {
            "tags": []
          },
          "execution_count": 30
        }
      ]
    },
    {
      "cell_type": "code",
      "metadata": {
        "id": "cMcKUsyvw2B_"
      },
      "source": [
        ""
      ],
      "execution_count": null,
      "outputs": []
    }
  ]
}